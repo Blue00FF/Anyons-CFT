{
 "cells": [
  {
   "cell_type": "markdown",
   "metadata": {},
   "source": [
    "In my project, I am going to translate what I learned about anyonic chains in the simpler case of Fibonacci anyons into computer language. This means that I will need first of all to construct the Hilbert Space of all possible chains, with the ability to input the length and boundary conditions of the problem. "
   ]
  },
  {
   "cell_type": "markdown",
   "metadata": {},
   "source": [
    "First of all, we build a Hilbert space of set length, making it small enough that we are able to check its validity by eye and be confident that we are on the right path. Let's write a program to give us all possible anyonic chains of length n = 5: the idea here is to have all possible lists of length 5 which can contain only zeroes and ones as elements and where a zero does not appear more than once in a row.  "
   ]
  },
  {
   "cell_type": "code",
   "execution_count": 1,
   "metadata": {
    "scrolled": true
   },
   "outputs": [
    {
     "name": "stdout",
     "output_type": "stream",
     "text": [
      "[0, 1, 0, 1, 0]\n",
      "[0, 1, 0, 1, 1]\n",
      "[0, 1, 1, 0, 1]\n",
      "[0, 1, 1, 1, 0]\n",
      "[0, 1, 1, 1, 1]\n",
      "[1, 0, 1, 0, 1]\n",
      "[1, 0, 1, 1, 0]\n",
      "[1, 0, 1, 1, 1]\n",
      "[1, 1, 0, 1, 0]\n",
      "[1, 1, 0, 1, 1]\n",
      "[1, 1, 1, 0, 1]\n",
      "[1, 1, 1, 1, 0]\n",
      "[1, 1, 1, 1, 1]\n"
     ]
    }
   ],
   "source": [
    "import numpy as np\n",
    "import scipy.linalg as la\n",
    "\n",
    "Chains_1 = [[0],[1]] \n",
    "\n",
    "#We create a list containing only the elements zero and one. \n",
    "#This is the Hilbert space of anyonic chains of length 1.\n",
    "\n",
    "Chains = Chains_1.copy()\n",
    "\n",
    "output = []\n",
    "\n",
    "for j in range(4):\n",
    "#We want to execute this next loop 5 times, as the idea is starting from the space of length 1 chains and making the lists it\n",
    "#contains longer by 1 element to create the space of chains of length 2. Each list can give birth to one or two lists\n",
    "#in the new space based on the anyon fusion rules.  \n",
    "    for i in Chains: \n",
    "#In each step of this loop, we take an element of our list of lists and check the last element that appears in it. \n",
    "#If it's a one, the next element can be either a one or a zero. \n",
    "#If it's a zero, the next element can only be a one. \n",
    "#Thus, we create one or two placeholder lists which will be a copy of the mother list and add zeroes or ones in order\n",
    "#to create the new elements we are looking for. \n",
    "#We need to copy lists and not just set them equal to each other, otherwise the paceholder list would just become a poiner\n",
    "#to the same initial list, which we don't want to modify. \n",
    "        if i[-1] == 1:\n",
    "            chain0 = []\n",
    "            chain1 = []\n",
    "            chain0 = i.copy()\n",
    "            chain0.append(0)\n",
    "            chain1 = i.copy()\n",
    "            chain1.append(1)\n",
    "            output.append(chain0)\n",
    "            output.append(chain1)\n",
    "        else:\n",
    "            chain1 = []\n",
    "            chain1 = i.copy()\n",
    "            chain1.append(1)\n",
    "            output.append(chain1)\n",
    "#Once we have our one or two new placeholder chains, we append them to a placeholder output list. \n",
    "    Chains = output.copy()\n",
    "#Once we have gone through all the elements of the previous Hilbert space, we copy the placeholder list into the list\n",
    "#we are cycling through and start the cycle all over again to obtain a higher dimension space. \n",
    "    output.clear()\n",
    "\n",
    "#Once we are done, we print each element of our Hilbert space on a separate line to make visualisation more pleasant.\n",
    "for i in Chains:\n",
    "    print(i)        "
   ]
  },
  {
   "cell_type": "markdown",
   "metadata": {},
   "source": [
    "We can also add one more line to check how the dimension of the space evolves with its length growing. This is what gives the name to the anyons, since the growing dimensions create a Fibonacci sequence.  "
   ]
  },
  {
   "cell_type": "code",
   "execution_count": 2,
   "metadata": {},
   "outputs": [
    {
     "name": "stdout",
     "output_type": "stream",
     "text": [
      "The dimension of the Hilbert space of dimension n = 1 is 2\n",
      "The dimension of the Hilbert space of dimension n = 2 is 3\n",
      "The dimension of the Hilbert space of dimension n = 3 is 5\n",
      "The dimension of the Hilbert space of dimension n = 4 is 8\n",
      "The dimension of the Hilbert space of dimension n = 5 is 13\n"
     ]
    }
   ],
   "source": [
    "Chains_1 = [[0],[1]] \n",
    "\n",
    "Chains = Chains_1.copy()\n",
    "\n",
    "output = []\n",
    "\n",
    "print(f\"The dimension of the Hilbert space of dimension n = 1 is {len(Chains)}\")\n",
    "\n",
    "for j in range(4):\n",
    "    for i in Chains: \n",
    "        if i[-1] == 1:\n",
    "            chain0 = []\n",
    "            chain1 = []\n",
    "            chain0 = i.copy()\n",
    "            chain0.append(0)\n",
    "            chain1 = i.copy()\n",
    "            chain1.append(1)\n",
    "            output.append(chain0)\n",
    "            output.append(chain1)\n",
    "        else:\n",
    "            chain1 = []\n",
    "            chain1 = i.copy()\n",
    "            chain1.append(1)\n",
    "            output.append(chain1)\n",
    "    Chains = output.copy()\n",
    "    output.clear()\n",
    "    print(f\"The dimension of the Hilbert space of dimension n = {j+2} is {len(Chains)}\")"
   ]
  },
  {
   "cell_type": "markdown",
   "metadata": {},
   "source": [
    "And now let's do the same for a generic length n: the program will be the same and instead of n = 5 we will just have n taken from the console input. "
   ]
  },
  {
   "cell_type": "code",
   "execution_count": 3,
   "metadata": {},
   "outputs": [
    {
     "name": "stdout",
     "output_type": "stream",
     "text": [
      "Please specify length n: 3\n"
     ]
    }
   ],
   "source": [
    "n = int(input(\"Please specify length n: \"))"
   ]
  },
  {
   "cell_type": "code",
   "execution_count": 4,
   "metadata": {},
   "outputs": [],
   "source": [
    "def Chains(n):\n",
    "    import numpy as np\n",
    "    Chains = [[0],[1]]\n",
    "\n",
    "    output = []\n",
    "\n",
    "    for j in range(n - 1):\n",
    "        for i in Chains: \n",
    "            if i[-1] == 1:\n",
    "                chain0 = []\n",
    "                chain1 = []\n",
    "                chain0 = i.copy()\n",
    "                chain0.append(0)\n",
    "                chain1 = i.copy()\n",
    "                chain1.append(1)\n",
    "                output.append(chain0)\n",
    "                output.append(chain1)\n",
    "            else:\n",
    "                chain1 = []\n",
    "                chain1 = i.copy()\n",
    "                chain1.append(1)\n",
    "                output.append(chain1)\n",
    "        Chains = output.copy()\n",
    "        output.clear()\n",
    "    return np.array(Chains)"
   ]
  },
  {
   "cell_type": "code",
   "execution_count": 5,
   "metadata": {},
   "outputs": [
    {
     "name": "stdout",
     "output_type": "stream",
     "text": [
      "[[0 1 0]\n",
      " [0 1 1]\n",
      " [1 0 1]\n",
      " [1 1 0]\n",
      " [1 1 1]]\n"
     ]
    }
   ],
   "source": [
    "print(Chains(n))"
   ]
  },
  {
   "cell_type": "markdown",
   "metadata": {},
   "source": [
    "And once again let's see how the dimensions evolve:"
   ]
  },
  {
   "cell_type": "code",
   "execution_count": 6,
   "metadata": {},
   "outputs": [
    {
     "name": "stdout",
     "output_type": "stream",
     "text": [
      "The dimension of the Hilbert space of dimension n = 1 is 2\n",
      "The dimension of the Hilbert space of dimension n = 2 is 3\n",
      "The dimension of the Hilbert space of dimension n = 3 is 5\n"
     ]
    }
   ],
   "source": [
    "Chains_1 = np.array([[0],[1]])\n",
    "\n",
    "print(f\"The dimension of the Hilbert space of dimension n = 1 is {len(Chains_1)}\")\n",
    "\n",
    "for j in range(n - 1):\n",
    "    print(f\"The dimension of the Hilbert space of dimension n = {j+2} is {len(Chains(j+2))}\")"
   ]
  },
  {
   "cell_type": "markdown",
   "metadata": {},
   "source": [
    "These numbers indeed reproduce a Fibonacci sequence. "
   ]
  },
  {
   "cell_type": "markdown",
   "metadata": {},
   "source": [
    "An additional level of complexity comes from adding the possibility of setting boundary conditions for the chains (with the ability to make them periodic or not, in particular). We can do this by first asking for boundary conditions as an input and storing the two numbers as variables:"
   ]
  },
  {
   "cell_type": "code",
   "execution_count": 7,
   "metadata": {},
   "outputs": [
    {
     "name": "stdout",
     "output_type": "stream",
     "text": [
      "Please set boundary conditions in the form X, X:0, 0\n"
     ]
    }
   ],
   "source": [
    "Boundary = input(\"Please set boundary conditions in the form X, X:\")\n",
    "\n",
    "a = int(Boundary[0]) \n",
    "b = int(Boundary[-1])\n",
    "\n",
    "a = 0\n",
    "b = 0\n",
    "\n",
    "if a != 0 and a!= 1: \n",
    "    print(\"Error: the left boundary is not valid.\")\n",
    "if b != 0 and b!= 1: \n",
    "    print(\"Error: the right boundary is not valid.\")"
   ]
  },
  {
   "cell_type": "markdown",
   "metadata": {},
   "source": [
    "And then filtering the chains we obtained before using these parameters:"
   ]
  },
  {
   "cell_type": "code",
   "execution_count": 8,
   "metadata": {},
   "outputs": [],
   "source": [
    "def Periodic_Chains(n):\n",
    "    PC = []\n",
    "    C = Chains(n+1)\n",
    "    for i in C: \n",
    "        if i[0] == i[-1]:\n",
    "            PC.append(np.delete(i, -1))\n",
    "    return np.array(PC)"
   ]
  },
  {
   "cell_type": "code",
   "execution_count": 9,
   "metadata": {},
   "outputs": [
    {
     "name": "stdout",
     "output_type": "stream",
     "text": [
      "[[0 1 1]\n",
      " [1 0 1]\n",
      " [1 1 0]\n",
      " [1 1 1]]\n"
     ]
    }
   ],
   "source": [
    "print(Periodic_Chains(3))"
   ]
  },
  {
   "cell_type": "markdown",
   "metadata": {},
   "source": [
    "What we are aiming for now is to associate to each element in the Hilbert Space we constructed an Energy, so that we may construct an Hamiltonian. Following the paper$^{[1]}$ we build it starting from the F-matrix and the projection matrix onto the ground state. We'll be starting with the simple case of fusing three anyons and use the pentagon equation.\n",
    "\n",
    "$$(F^{\\tau \\tau c}_\\tau)^d_a (F^{a \\tau \\tau}_\\tau)^c_b = (F^{\\tau \\tau \\tau}_d)^c_e (F^{\\tau e \\tau}_\\tau)^d_b (F^{\\tau \\tau \\tau}_b)^e_a$$\n",
    "\n",
    "This is particularly simple in the case of Fibonacci anyons as since we only have one element in addition to the identity, only fusions of non-trivial elements give interesting results and so the only equation we need to solve is:\n",
    "\n",
    "$$(F^{\\tau \\tau \\tau}_\\tau)^d_a (F^{a \\tau \\tau}_\\tau)^\\tau_b = (F^{\\tau \\tau \\tau}_d)^\\tau_e (F^{\\tau e \\tau}_\\tau)^d_b (F^{\\tau \\tau \\tau}_b)^e_a$$\n",
    "\n",
    "To which we also have to add the unitarity constraint: \n",
    "\n",
    "$$(F^{\\tau \\tau \\tau}_\\tau)^{\\dagger} = (F^{\\tau \\tau \\tau}_\\tau)^{-1}$$\n",
    "\n",
    "We will also be using the Yang-Lee version and not the Fibonacci version, so no unitarity, because it will lead to a simpler conformal field theory."
   ]
  },
  {
   "cell_type": "code",
   "execution_count": 10,
   "metadata": {},
   "outputs": [
    {
     "name": "stdout",
     "output_type": "stream",
     "text": [
      "[[0 0 0]\n",
      " [0 0 0]\n",
      " [0 0 0]]\n"
     ]
    }
   ],
   "source": [
    "def Null(m):\n",
    "    \n",
    "    Null = []\n",
    "\n",
    "    Null_Row = []\n",
    "\n",
    "    for i in range(m):\n",
    "        Null_Row.append(0)\n",
    "    for i in range (m):\n",
    "        Null.append(Null_Row.copy())\n",
    "    return np.array(Null)\n",
    "\n",
    "print(Null(3))"
   ]
  },
  {
   "cell_type": "code",
   "execution_count": 11,
   "metadata": {},
   "outputs": [
    {
     "name": "stdout",
     "output_type": "stream",
     "text": [
      "[[-1.61803399+0.j          0.        -0.78615138j]\n",
      " [ 0.        -1.27201965j  1.61803399+0.j        ]]\n"
     ]
    }
   ],
   "source": [
    "import cmath\n",
    "\n",
    "r = (5**0.5 + 1)/2\n",
    "\n",
    "F_YM = np.array([[-r, -1j*r**(-0.5)],[- 1j * r**(0.5), r]]) \n",
    "\n",
    "print(F_YM)"
   ]
  },
  {
   "cell_type": "markdown",
   "metadata": {},
   "source": [
    "Now to get the Hamiltonian we will need to build fusion matrices for pairs on anyons and ,since potentials are defined as differences and not as absolute values, we can make a choice of ground state and attribute to it an arbitrary energy, which for semplicity is chosen as E = -1. To understand the mechanism and be able to automate it, we start from applying it to simple cases. "
   ]
  },
  {
   "cell_type": "markdown",
   "metadata": {},
   "source": [
    "Let's start from the case of chains of length n = 2. The space will be given by:"
   ]
  },
  {
   "cell_type": "code",
   "execution_count": 12,
   "metadata": {},
   "outputs": [
    {
     "name": "stdout",
     "output_type": "stream",
     "text": [
      "[[0 1]\n",
      " [1 0]\n",
      " [1 1]]\n"
     ]
    }
   ],
   "source": [
    "print(Periodic_Chains(2))"
   ]
  },
  {
   "cell_type": "markdown",
   "metadata": {},
   "source": [
    "If we choose the state $[1, x]$ in the fusion basis to be our ground state, then we have that the projection matrix onto the ground state will be:  "
   ]
  },
  {
   "cell_type": "code",
   "execution_count": 13,
   "metadata": {},
   "outputs": [
    {
     "name": "stdout",
     "output_type": "stream",
     "text": [
      "[[ 0.  0.  0.]\n",
      " [ 0.  0.  0.]\n",
      " [ 0.  0. -1.]]\n"
     ]
    }
   ],
   "source": [
    "P_2 = np.zeros((3, 3))\n",
    "\n",
    "P_2[2][2] = -1\n",
    "\n",
    "print(P_2)"
   ]
  },
  {
   "cell_type": "markdown",
   "metadata": {},
   "source": [
    "And the fusion matrices in this case will be: "
   ]
  },
  {
   "cell_type": "code",
   "execution_count": 14,
   "metadata": {},
   "outputs": [
    {
     "name": "stdout",
     "output_type": "stream",
     "text": [
      "F_1\n",
      "[[-1.618+0.j     0.   +0.j     0.   -0.786j]\n",
      " [ 0.   +0.j     1.   +0.j     0.   +0.j   ]\n",
      " [ 0.   -1.272j  0.   +0.j     1.618+0.j   ]]\n",
      "F_2\n",
      "[[ 0.   +0.j    -1.618+0.j     0.   -0.786j]\n",
      " [ 1.   +0.j     0.   +0.j     0.   +0.j   ]\n",
      " [ 0.   +0.j     0.   -1.272j  1.618+0.j   ]]\n"
     ]
    }
   ],
   "source": [
    "F_2_1 = np.array([[F_YM[0,0], 0, F_YM[0,1]], [0, 1, 0], [F_YM[1,0], 0, F_YM[1,1]]])\n",
    "\n",
    "print(\"F_1\")\n",
    "\n",
    "print(np.around(F_2_1, 3))\n",
    "\n",
    "print(\"F_2\")\n",
    "\n",
    "F_2_2 = np.array([[0, F_YM[0,0], F_YM[0,1]],[1, 0, 0],[0, F_YM[1,0], F_YM[1,1]]])\n",
    "\n",
    "print(np.around(F_2_2, 3))"
   ]
  },
  {
   "cell_type": "markdown",
   "metadata": {},
   "source": [
    "From these we can then calculate the local Hamiltonians and then add them to get a global Hamiltonian:"
   ]
  },
  {
   "cell_type": "code",
   "execution_count": 15,
   "metadata": {},
   "outputs": [
    {
     "name": "stdout",
     "output_type": "stream",
     "text": [
      "H_12\n",
      "[[ 0.618+0.j     0.   +0.j     0.   +0.786j]\n",
      " [ 0.   +0.j     0.   +0.j     0.   +0.j   ]\n",
      " [ 0.   +1.272j  0.   +0.j    -1.618+0.j   ]]\n",
      "H_21\n",
      "[[ 0.   +0.j     0.   +0.j     0.   +0.j   ]\n",
      " [ 0.   +0.j     0.618+0.j     0.   +0.786j]\n",
      " [ 0.   +0.j     0.   +1.272j -1.618+0.j   ]]\n",
      "H\n",
      "[[ 0.618+0.j     0.   +0.j     0.   +0.786j]\n",
      " [ 0.   +0.j     0.618+0.j     0.   +0.786j]\n",
      " [ 0.   +1.272j  0.   +1.272j -3.236+0.j   ]]\n"
     ]
    }
   ],
   "source": [
    "H_12 = la.inv(F_2_1) @ P_2 @ F_2_1\n",
    "\n",
    "print(\"H_12\")\n",
    "\n",
    "print(np.around(H_12, 3))\n",
    "\n",
    "H_21 = la.inv(F_2_2) @ P_2 @ F_2_2\n",
    "\n",
    "print(\"H_21\")\n",
    "\n",
    "print(np.around(H_21, 3))\n",
    "\n",
    "print(\"H\")\n",
    "\n",
    "H = np.around(H_12 + H_21, 3)\n",
    "\n",
    "print(H)"
   ]
  },
  {
   "cell_type": "markdown",
   "metadata": {},
   "source": [
    "And then check that its eigenvalues:"
   ]
  },
  {
   "cell_type": "code",
   "execution_count": 16,
   "metadata": {},
   "outputs": [
    {
     "name": "stdout",
     "output_type": "stream",
     "text": [
      "The Eigenvalues of H are:\n",
      "[-2.618+0.j  0.   +0.j  0.618+0.j]\n",
      "The Eigenvectors of H are:\n",
      "[[ 0.   -0.23j   0.618+0.j     0.707+0.j   ]\n",
      " [ 0.   -0.23j   0.618+0.j    -0.707+0.j   ]\n",
      " [ 0.946+0.j    -0.   +0.486j  0.   +0.j   ]]\n"
     ]
    }
   ],
   "source": [
    "import collections\n",
    "from collections import Counter\n",
    "\n",
    "eigvals, eigvecs = la.eig(H)\n",
    "\n",
    "print(\"The Eigenvalues of H are:\")\n",
    "print(np.around(eigvals, 3))\n",
    "\n",
    "print(\"The Eigenvectors of H are:\")\n",
    "print(np.around(eigvecs, 3))"
   ]
  },
  {
   "cell_type": "markdown",
   "metadata": {},
   "source": [
    "Can be fitted to the first exponents of the character series:"
   ]
  },
  {
   "cell_type": "code",
   "execution_count": 17,
   "metadata": {},
   "outputs": [
    {
     "name": "stdout",
     "output_type": "stream",
     "text": [
      "-0.401, appearing 1 times\n",
      "0.0, appearing 1 times\n",
      "0.095, appearing 1 times\n"
     ]
    }
   ],
   "source": [
    "eigvals = np.sort(eigvals)\n",
    "X = np.array([eigvals[0], eigvals[1]])\n",
    "X = np.around(X,3)\n",
    "s = np.around(la.solve(np.array([[X[0], 1],[X[1], 1]]), np.array([-2/5,0])),3)\n",
    "\n",
    "c = Counter(np.around(eigvals*s[0] +s[1],3))\n",
    "\n",
    "for i in c:\n",
    "    print (f\"{i}, appearing {c[i]} times\")"
   ]
  },
  {
   "cell_type": "markdown",
   "metadata": {},
   "source": [
    "Which is indeed the case. Let's now take the case of generic n, which I will take equal to 3 to show results:"
   ]
  },
  {
   "cell_type": "code",
   "execution_count": 18,
   "metadata": {},
   "outputs": [
    {
     "name": "stdout",
     "output_type": "stream",
     "text": [
      "[[0 1 1]\n",
      " [1 0 1]\n",
      " [1 1 0]\n",
      " [1 1 1]]\n"
     ]
    }
   ],
   "source": [
    "print(Periodic_Chains(3))"
   ]
  },
  {
   "cell_type": "markdown",
   "metadata": {},
   "source": [
    "The Fusion matrices will be calculated using:"
   ]
  },
  {
   "cell_type": "code",
   "execution_count": 19,
   "metadata": {},
   "outputs": [],
   "source": [
    "def RRotation(Space1):\n",
    "    import collections\n",
    "    Space2 = []\n",
    "    for a in Space1:\n",
    "        b = collections.deque(a)\n",
    "        b.rotate(-1)\n",
    "        Space2.append(list(b))\n",
    "    return Space2\n",
    "\n",
    "def LRotation(Space1):\n",
    "    import collections\n",
    "    Space2 = []\n",
    "    for a in Space1:\n",
    "        b = collections.deque(a)\n",
    "        b.rotate(+1)\n",
    "        Space2.append(list(b))\n",
    "    return Space2"
   ]
  },
  {
   "cell_type": "code",
   "execution_count": 20,
   "metadata": {},
   "outputs": [],
   "source": [
    "def Comp_Chains(n, k):\n",
    "    a = []\n",
    "    c = Chains(n - 1)\n",
    "    for j in range(k):\n",
    "        c = RRotation(c).copy()\n",
    "    for i in c: \n",
    "        if i[0] != i[-1]:\n",
    "            a.append(np.append(1, i))\n",
    "        else: \n",
    "            a.append(np.append(0, i))\n",
    "            if i[0] == 1:\n",
    "                a.append(np.append(1, i))\n",
    "    for i in range(k):\n",
    "        a = LRotation(a).copy()\n",
    "    return np.array(a)"
   ]
  },
  {
   "cell_type": "code",
   "execution_count": 21,
   "metadata": {},
   "outputs": [],
   "source": [
    "def Reorder(Space1, Space2):\n",
    "    c = []\n",
    "    spec = 3000\n",
    "    for i, a in enumerate(Space1):\n",
    "        p = 0\n",
    "        for j, b in enumerate(Space2):\n",
    "            if np.array_equal(a, b): \n",
    "                c.insert(i, a)\n",
    "                p = 1\n",
    "        if p == 0:\n",
    "            spec = i\n",
    "    if spec != 3000:        \n",
    "        for j, b in enumerate(Space2):\n",
    "            p = 0\n",
    "            for i, a in enumerate(Space1):\n",
    "                if np.array_equal(a, b):\n",
    "                    p = 1\n",
    "            if p == 0:\n",
    "                c.insert(spec, b)\n",
    "    return np.array(c)"
   ]
  },
  {
   "cell_type": "code",
   "execution_count": 22,
   "metadata": {},
   "outputs": [],
   "source": [
    "def Fusion (n):\n",
    "    Space2 = Chains(n-1)\n",
    "    import collections \n",
    "    Space1 = Periodic_Chains(n)\n",
    "    H = np.zeros((len(Space1), len(Space1))).astype(complex)\n",
    "    for i in range(n):\n",
    "        F = np.zeros((len(Space1), len(Space1))).astype(complex)\n",
    "        P = np.zeros((len(Space1), len(Space1))).astype(complex)\n",
    "        Space3 = []\n",
    "        for a_1 in Periodic_Chains(n):\n",
    "            a_2 = collections.deque(a_1)\n",
    "            a_2.rotate(-i)\n",
    "            Space3.append(list(a_2))\n",
    "        Space3 = np.array(Space3)\n",
    "        Space4 = Reorder(Periodic_Chains(n), Comp_Chains(n,i))\n",
    "        for c in Space2:\n",
    "            Space1 = Periodic_Chains(n)\n",
    "            if c[0] != c[-1]:        \n",
    "                for k, d in enumerate(Space3):\n",
    "                    if np.array_equal(c, np.delete(d, 0)):\n",
    "                        Space1[k,i] = 1\n",
    "                        for g_ind, g in enumerate(Space4):\n",
    "                            if np.array_equal(Space1[k], g):\n",
    "                                F[k, g_ind] = 1\n",
    "                                P[g_ind, g_ind] = -1\n",
    "            elif c[0] == 1 and c[-1] == 1:\n",
    "                for k, d in enumerate(Space3):\n",
    "                    if np.array_equal(c, np.delete(d, 0)):\n",
    "                        Space1[k, i] = 0\n",
    "                        for g_ind, g in enumerate(Space4):\n",
    "                            if np.array_equal(Space1[k], g):\n",
    "                                F[k, g_ind] = F_YM[d[0], 0]\n",
    "                        Space1[k, i] = 1\n",
    "                        for g_ind, g in enumerate(Space4):\n",
    "                            if np.array_equal(Space1[k], g):\n",
    "                                F[k, g_ind] = F_YM[d[0], 1]\n",
    "                                P[g_ind, g_ind] = -1\n",
    "            elif c[0] == 0 and c[-1] == 0:\n",
    "                for k, d in enumerate(Space3):\n",
    "                    if np.array_equal(c, np.delete(d, 0)):\n",
    "                        Space1[k, i] = 0\n",
    "                        for g_ind, g in enumerate(Space4):\n",
    "                            if np.array_equal(Space1[k], g):\n",
    "                                F[k, g_ind] = 1\n",
    "        print(F)\n",
    "        H += la.inv(F) @ P @ F\n",
    "    return H"
   ]
  },
  {
   "cell_type": "markdown",
   "metadata": {},
   "source": [
    "And if run with n = 3 we obtain as Hamiltonian, Eigenvalues and Eigenvectors:"
   ]
  },
  {
   "cell_type": "code",
   "execution_count": 23,
   "metadata": {},
   "outputs": [
    {
     "name": "stdout",
     "output_type": "stream",
     "text": [
      "[[-1.61803399+0.j          0.        +0.j          0.        +0.j\n",
      "   0.        -0.78615138j]\n",
      " [ 0.        +0.j          1.        +0.j          0.        +0.j\n",
      "   0.        +0.j        ]\n",
      " [ 0.        +0.j          0.        +0.j          1.        +0.j\n",
      "   0.        +0.j        ]\n",
      " [ 0.        -1.27201965j  0.        +0.j          0.        +0.j\n",
      "   1.61803399+0.j        ]]\n",
      "[[ 1.        +0.j          0.        +0.j          0.        +0.j\n",
      "   0.        +0.j        ]\n",
      " [ 0.        +0.j         -1.61803399+0.j          0.        +0.j\n",
      "   0.        -0.78615138j]\n",
      " [ 0.        +0.j          0.        +0.j          1.        +0.j\n",
      "   0.        +0.j        ]\n",
      " [ 0.        +0.j          0.        -1.27201965j  0.        +0.j\n",
      "   1.61803399+0.j        ]]\n",
      "[[ 1.        +0.j          0.        +0.j          0.        +0.j\n",
      "   0.        +0.j        ]\n",
      " [ 0.        +0.j          1.        +0.j          0.        +0.j\n",
      "   0.        +0.j        ]\n",
      " [ 0.        +0.j          0.        +0.j         -1.61803399+0.j\n",
      "   0.        -0.78615138j]\n",
      " [ 0.        +0.j          0.        +0.j          0.        -1.27201965j\n",
      "   1.61803399+0.j        ]]\n",
      "The Hamiltonian H is:\n",
      "[[-1.382+0.j     0.   +0.j     0.   +0.j     0.   +0.786j]\n",
      " [ 0.   +0.j    -1.382+0.j     0.   +0.j     0.   +0.786j]\n",
      " [ 0.   +0.j     0.   +0.j    -1.382+0.j     0.   +0.786j]\n",
      " [ 0.   +1.272j  0.   +1.272j  0.   +1.272j -4.854+0.j   ]]\n",
      "The Eigenvalues of H are:\n",
      "[-3.236+0.j -3.   -0.j -1.382+0.j -1.382+0.j]\n",
      "The Eigenvectors of H are:\n",
      "[[ 0.816+0.j     0.   -0.342j  0.   -0.372j -0.   -0.j   ]\n",
      " [-0.408+0.j    -0.   -0.342j -0.   -0.372j -0.707+0.j   ]\n",
      " [-0.408+0.j     0.   -0.342j -0.   -0.372j  0.707+0.j   ]\n",
      " [-0.   -0.j     0.806+0.j     0.765+0.j    -0.   +0.j   ]]\n"
     ]
    }
   ],
   "source": [
    "H = Fusion(3)\n",
    "\n",
    "eigvals, eigvecs = la.eig(H)\n",
    "\n",
    "print(\"The Hamiltonian H is:\")\n",
    "print(np.around(H,3))\n",
    "\n",
    "print(\"The Eigenvalues of H are:\")\n",
    "print(np.around(np.sort(eigvals), 3))\n",
    "\n",
    "print(\"The Eigenvectors of H are:\")\n",
    "print(np.around(eigvecs, 3))"
   ]
  },
  {
   "cell_type": "markdown",
   "metadata": {},
   "source": [
    "Which, after being fitted, give:"
   ]
  },
  {
   "cell_type": "code",
   "execution_count": 24,
   "metadata": {},
   "outputs": [
    {
     "name": "stdout",
     "output_type": "stream",
     "text": [
      "Among our fitted eigenvalues there are:\n",
      "-0.4, appearing 1 times\n",
      "0.0, appearing 1 times\n",
      "2.743, appearing 2 times\n"
     ]
    }
   ],
   "source": [
    "eigvals = np.sort(eigvals)\n",
    "X = np.array([eigvals[0], eigvals[1]])\n",
    "X = np.around(X,3)\n",
    "s = np.around(la.solve(np.array([[X[0], 1],[X[1], 1]]), np.array([-2/5,0])),3)\n",
    "print(f\"Among our fitted eigenvalues there are:\")\n",
    "\n",
    "c = Counter(np.around(eigvals*s[0] +s[1],3))\n",
    "\n",
    "for i in c:\n",
    "    print (f\"{i}, appearing {c[i]} times\")"
   ]
  },
  {
   "cell_type": "markdown",
   "metadata": {},
   "source": [
    "Which end up coinciding with the first exponents of the series."
   ]
  }
 ],
 "metadata": {
  "kernelspec": {
   "display_name": "Python 3",
   "language": "python",
   "name": "python3"
  },
  "language_info": {
   "codemirror_mode": {
    "name": "ipython",
    "version": 3
   },
   "file_extension": ".py",
   "mimetype": "text/x-python",
   "name": "python",
   "nbconvert_exporter": "python",
   "pygments_lexer": "ipython3",
   "version": "3.8.5"
  }
 },
 "nbformat": 4,
 "nbformat_minor": 4
}
